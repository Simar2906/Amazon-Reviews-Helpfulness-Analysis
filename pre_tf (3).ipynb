{
 "metadata": {
  "language_info": {
   "codemirror_mode": {
    "name": "ipython",
    "version": 3
   },
   "file_extension": ".py",
   "mimetype": "text/x-python",
   "name": "python",
   "nbconvert_exporter": "python",
   "pygments_lexer": "ipython3",
   "version": "3.8.3-final"
  },
  "orig_nbformat": 2,
  "kernelspec": {
   "name": "python3",
   "display_name": "Python 3"
  }
 },
 "nbformat": 4,
 "nbformat_minor": 2,
 "cells": [
  {
   "cell_type": "code",
   "execution_count": 9,
   "metadata": {},
   "outputs": [],
   "source": [
    "import pandas as pd\n",
    "import tensorflow\n",
    "import re\n",
    "from nltk.corpus import stopwords\n",
    "# Import Tokenizer and pad_sequences\n",
    "from tensorflow.keras.preprocessing.text import Tokenizer\n",
    "from tensorflow.keras.preprocessing.sequence import pad_sequences"
   ]
  },
  {
   "cell_type": "code",
   "execution_count": 10,
   "metadata": {},
   "outputs": [],
   "source": [
    "dataset = pd.read_csv(\"Reviews.csv\")"
   ]
  },
  {
   "cell_type": "code",
   "execution_count": 11,
   "metadata": {},
   "outputs": [
    {
     "output_type": "execute_result",
     "data": {
      "text/plain": [
       "   Id   ProductId          UserId                      ProfileName  \\\n",
       "0   1  B001E4KFG0  A3SGXH7AUHU8GW                       delmartian   \n",
       "1   2  B00813GRG4  A1D87F6ZCVE5NK                           dll pa   \n",
       "2   3  B000LQOCH0   ABXLMWJIXXAIN  Natalia Corres \"Natalia Corres\"   \n",
       "3   4  B000UA0QIQ  A395BORC6FGVXV                             Karl   \n",
       "4   5  B006K2ZZ7K  A1UQRSCLF8GW1T    Michael D. Bigham \"M. Wassir\"   \n",
       "\n",
       "   HelpfulnessNumerator  HelpfulnessDenominator  Score        Time  \\\n",
       "0                     1                       1      5  1303862400   \n",
       "1                     0                       0      1  1346976000   \n",
       "2                     1                       1      4  1219017600   \n",
       "3                     3                       3      2  1307923200   \n",
       "4                     0                       0      5  1350777600   \n",
       "\n",
       "                 Summary                                               Text  \n",
       "0  Good Quality Dog Food  I have bought several of the Vitality canned d...  \n",
       "1      Not as Advertised  Product arrived labeled as Jumbo Salted Peanut...  \n",
       "2  \"Delight\" says it all  This is a confection that has been around a fe...  \n",
       "3         Cough Medicine  If you are looking for the secret ingredient i...  \n",
       "4            Great taffy  Great taffy at a great price.  There was a wid...  "
      ],
      "text/html": "<div>\n<style scoped>\n    .dataframe tbody tr th:only-of-type {\n        vertical-align: middle;\n    }\n\n    .dataframe tbody tr th {\n        vertical-align: top;\n    }\n\n    .dataframe thead th {\n        text-align: right;\n    }\n</style>\n<table border=\"1\" class=\"dataframe\">\n  <thead>\n    <tr style=\"text-align: right;\">\n      <th></th>\n      <th>Id</th>\n      <th>ProductId</th>\n      <th>UserId</th>\n      <th>ProfileName</th>\n      <th>HelpfulnessNumerator</th>\n      <th>HelpfulnessDenominator</th>\n      <th>Score</th>\n      <th>Time</th>\n      <th>Summary</th>\n      <th>Text</th>\n    </tr>\n  </thead>\n  <tbody>\n    <tr>\n      <th>0</th>\n      <td>1</td>\n      <td>B001E4KFG0</td>\n      <td>A3SGXH7AUHU8GW</td>\n      <td>delmartian</td>\n      <td>1</td>\n      <td>1</td>\n      <td>5</td>\n      <td>1303862400</td>\n      <td>Good Quality Dog Food</td>\n      <td>I have bought several of the Vitality canned d...</td>\n    </tr>\n    <tr>\n      <th>1</th>\n      <td>2</td>\n      <td>B00813GRG4</td>\n      <td>A1D87F6ZCVE5NK</td>\n      <td>dll pa</td>\n      <td>0</td>\n      <td>0</td>\n      <td>1</td>\n      <td>1346976000</td>\n      <td>Not as Advertised</td>\n      <td>Product arrived labeled as Jumbo Salted Peanut...</td>\n    </tr>\n    <tr>\n      <th>2</th>\n      <td>3</td>\n      <td>B000LQOCH0</td>\n      <td>ABXLMWJIXXAIN</td>\n      <td>Natalia Corres \"Natalia Corres\"</td>\n      <td>1</td>\n      <td>1</td>\n      <td>4</td>\n      <td>1219017600</td>\n      <td>\"Delight\" says it all</td>\n      <td>This is a confection that has been around a fe...</td>\n    </tr>\n    <tr>\n      <th>3</th>\n      <td>4</td>\n      <td>B000UA0QIQ</td>\n      <td>A395BORC6FGVXV</td>\n      <td>Karl</td>\n      <td>3</td>\n      <td>3</td>\n      <td>2</td>\n      <td>1307923200</td>\n      <td>Cough Medicine</td>\n      <td>If you are looking for the secret ingredient i...</td>\n    </tr>\n    <tr>\n      <th>4</th>\n      <td>5</td>\n      <td>B006K2ZZ7K</td>\n      <td>A1UQRSCLF8GW1T</td>\n      <td>Michael D. Bigham \"M. Wassir\"</td>\n      <td>0</td>\n      <td>0</td>\n      <td>5</td>\n      <td>1350777600</td>\n      <td>Great taffy</td>\n      <td>Great taffy at a great price.  There was a wid...</td>\n    </tr>\n  </tbody>\n</table>\n</div>"
     },
     "metadata": {},
     "execution_count": 11
    }
   ],
   "source": [
    "dataset.head()"
   ]
  },
  {
   "cell_type": "code",
   "execution_count": 12,
   "metadata": {},
   "outputs": [],
   "source": [
    "contractions={\n",
    "    \"ain't\": \"is not\",\n",
    "    \"aren't\": \"are not\",\n",
    "    \"can't\": \"cannot\",\n",
    "    \"cause\": \"because\",\n",
    "    \"could've\": \"could have\",\n",
    "    \"couldn't\": \"could not\",\n",
    "    \"couldn't've\": \"could not have\",\n",
    "    \"didn't\": \"did not\",\n",
    "    \"doesn't\": \"does not\",\n",
    "    \"don't\": \"do not\",\n",
    "    \"hadn't\": \"had not\",\n",
    "    \"hadn't've\": \"had not have\",\n",
    "    \"hasn't\": \"has not\",\n",
    "    \"haven't\": \"have not\",\n",
    "    \"he'd\": \"he would\",\n",
    "    \"he'd've\": \"he would have\",\n",
    "    \"he'll\": \"he will\",\n",
    "    \"he'll've\": \"he will have\",\n",
    "    \"he's\": \"he is\",\n",
    "    \"how'd\": \"how did\",\n",
    "    \"how'd've\": \"how did have\",\n",
    "    \"how'll\": \"how will\",\n",
    "    \"how's\": \"how is\",\n",
    "    \"I'd\": \"I would\",\n",
    "    \"I'd've\": \"I would have\",\n",
    "    \"I'll\": \"I will\",\n",
    "    \"I'll've\": \"I will have\",\n",
    "    \"I'm\": \"I am\",\n",
    "    \"I've\": \"I have\",\n",
    "    \"i'd\": \"i would\",\n",
    "    \"i'd've\": \"i would have\",\n",
    "    \"i'll\": \"i will\",\n",
    "    \"i'll've\": \"i will have\",\n",
    "    \"i'm\": \"i am\",\n",
    "    \"i've\": \"i have\",\n",
    "    \"isn't\": \"is not\",\n",
    "    \"it'd\": \"it would\",\n",
    "    \"it'd've\": \"it would have\",\n",
    "    \"it'll\": \"it will\",\n",
    "    \"it'll've\": \"it will have\",\n",
    "    \"it's\": \"it is\",\n",
    "    \"let's\": \"let us\",\n",
    "    \"ma'am\": \"madam\",\n",
    "    \"mayn't\": \"may not\",\n",
    "    \"might've\": \"might have\",\n",
    "    \"mightn't\": \"might not\",\n",
    "    \"mightn't've\": \"might not have\",\n",
    "    \"must've\": \"might have\",\n",
    "    \"mustn't\": \"must not\",\n",
    "    \"mustn't've\": \"must not have\",\n",
    "    \"needn't\": \"need not\",\n",
    "    \"needn't've\": \"need not have\",\n",
    "    \"o'clock\": \"of the clock\",\n",
    "    \"oughtn't\": \"ought not\",\n",
    "    \"oughtn't've\": \"ought not have\",\n",
    "    \"shan't\": \"shall not\",\n",
    "    \"shall'n't\": \"shall not\",\n",
    "    \"shan't've\": \"shall not have\",\n",
    "    \"she'd\": \"she would\",\n",
    "    \"she'd've\": \"she would have\",\n",
    "    \"she'll\": \"she will\",\n",
    "    \"she'll've\": \"she will have\",\n",
    "    \"she's\": \"she is\",\n",
    "    \"should've\": \"should have\",\n",
    "    \"shouldn't\": \"should not\",\n",
    "    \"shouldn't've\": \"should not have\",\n",
    "    \"so've\": \"so have\",\n",
    "    \"so's\": \"so as\",\n",
    "    \"that'd\": \"that would\",\n",
    "    \"that'd've\": \"that would have\",\n",
    "    \"that's\": \"that is\",\n",
    "    \"there'd\": \"there would\",\n",
    "    \"there'd've\": \"there would have\",\n",
    "    \"there's\": \"there is\",\n",
    "    \"they'd\": \"they would\",\n",
    "    \"they'd've\": \"they would have\",\n",
    "    \"they'll\": \"they will\",\n",
    "    \"they'll've\": \"they will have\",\n",
    "    \"they're\": \"they are\",\n",
    "    \"they've\": \"they have\",\n",
    "    \"to've\": \"to have\",\n",
    "    \"wasn't\": \"was not\",\n",
    "    \"we'd\": \"we would\",\n",
    "    \"we'd've\": \"we would have\",\n",
    "    \"we'll\": \"we will\",\n",
    "    \"we'll've\": \"we will have\",\n",
    "    \"we're\": \"we are\",\n",
    "    \"weren't\": \"were not\",\n",
    "    \"what'll\": \"what will\",\n",
    "    \"what'll've\": \"what will have\",\n",
    "    \"what're\": \"what are\",\n",
    "    \"what's\": \"what is\",\n",
    "    \"what've\": \"what have\",\n",
    "    \"when's\": \"when is\",\n",
    "    \"when've\": \"when have\",\n",
    "    \"where'd\": \"where did\",\n",
    "    \"where's\": \"where is\",\n",
    "    \"where've\": \"where have\",\n",
    "    \"who'll\": \"who will\",\n",
    "    \"who'll've\": \"who will have\",\n",
    "    \"who's\": \"who is\",\n",
    "    \"who've\": \"who have\",\n",
    "    \"why's\": \"why is\",\n",
    "    \"why've\": \"why have\",\n",
    "    \"will've\": \"will have\",\n",
    "    \"won't\": \"will not\",\n",
    "    \"will't've\": \"will not have\",\n",
    "    \"would've\": \"would have\",\n",
    "    \"would't\": \"would not\",\n",
    "    \"would't've\": \"would not have\",\n",
    "    \"y'all\": \"you all\",\n",
    "    \"y'all'd\": \"you all would\",\n",
    "    \"y'all'd've\": \"you all would have\",\n",
    "    \"y'all're\": \"you all are\",\n",
    "    \"y'all've\": \"you have all\",\n",
    "    \"you'd\": \"you would\",\n",
    "    \"you'd've\": \"you would have\",\n",
    "    \"you'll\": \"you will\",\n",
    "    \"you'll've\": \"you will have\",\n",
    "    \"you're\": \"you are\",\n",
    "    \"you've\": \"you have\",\n",
    "}"
   ]
  },
  {
   "cell_type": "code",
   "execution_count": 13,
   "metadata": {},
   "outputs": [],
   "source": [
    "def clean_text(text, remove_stopwords = True):\n",
    "    text = text.lower()\n",
    "    if True:\n",
    "        text = text.split()\n",
    "        new_text = []\n",
    "        for word in text:\n",
    "            if word in contractions:\n",
    "                new_text.append(contractions[word])\n",
    "            else:\n",
    "                new_text.append(word)\n",
    "        text = \" \".join(new_text)\n",
    "    text = re.sub(r'https?:\\/\\/.*[\\r\\n]*', '', text, flags=re.MULTILINE)\n",
    "    text = re.sub(r'\\<a href', ' ', text)\n",
    "    text = re.sub(r'&amp;', '', text) \n",
    "    text = re.sub(r'[_\"\\-;%()|+&=*%.,!?:#$@\\[\\]/]', ' ', text)\n",
    "    text = re.sub(r'<br />', ' ', text)\n",
    "    text = re.sub(r'\\'', ' ', text)\n",
    "    if remove_stopwords:\n",
    "        text = text.split()\n",
    "        stops = set(stopwords.words(\"english\"))\n",
    "        text = [w for w in text if not w in stops]\n",
    "        text = \" \".join(text)\n",
    "    return text"
   ]
  },
  {
   "cell_type": "code",
   "execution_count": 14,
   "metadata": {},
   "outputs": [],
   "source": [
    "clean_texts = []\n",
    "for text in dataset.Text:\n",
    "    clean_texts.append(clean_text(text))"
   ]
  },
  {
   "cell_type": "code",
   "execution_count": 15,
   "metadata": {},
   "outputs": [],
   "source": [
    "data = dataset.iloc[:,-1]"
   ]
  },
  {
   "cell_type": "code",
   "execution_count": 16,
   "metadata": {},
   "outputs": [],
   "source": [
    "data_list = data.tolist()"
   ]
  },
  {
   "cell_type": "code",
   "execution_count": 17,
   "metadata": {},
   "outputs": [],
   "source": [
    "tokenizer = Tokenizer(num_words = 100, oov_token=\"<OOV>\")"
   ]
  },
  {
   "cell_type": "code",
   "execution_count": 18,
   "metadata": {
    "tags": [
     "outputPrepend"
    ]
   },
   "outputs": [
    {
     "output_type": "stream",
     "name": "stdout",
     "text": [
      "'boxart': 132039, 'mumification': 132040, 'gopics': 132041, 'chubway': 132042, 'b005rri3z0': 132043, 'b001rj1faw': 132044, 'b000vzqtxg': 132045, 'b003ybh398': 132046, 'b005plc674': 132047, 'packaaging': 132048, 'riiiiight': 132049, 'sludgey': 132050, 'putoff': 132051, \"salmon's\": 132052, \"'carryable'\": 132053, 'hopfully': 132054, 'ridicuously': 132055, 'chikory': 132056, 'b001onpmog': 132057, 'craaaaaaaaazy': 132058, 'aheed': 132059, 'bouwl': 132060, 'citrusey': 132061, 'iwelcomed': 132062, 'unsecured': 132063, 'faboulis': 132064, 'malf': 132065, 'smeals': 132066, 'saaz': 132067, 'b003cse7r4': 132068, 'b004tmw47w': 132069, \"mist's\": 132070, 'occosional': 132071, 'roughtly': 132072, 'parmeasan': 132073, 'cuddy': 132074, 'laddu': 132075, \"chic'n\": 132076, 'inhibitory': 132077, 'attentiveness': 132078, 'glucuronic': 132079, 'efsa': 132080, 'comit': 132081, 'pomegrantat': 132082, 'mout': 132083, \"supplements'\": 132084, \"fhe's\": 132085, 'impresssed': 132086, 'redb': 132087, 'courtyard': 132088, 'soapstone': 132089, 'alabaster': 132090, 'maintance': 132091, 'horio': 132092, 'spitiko': 132093, 'b003kh23ci': 132094, 'braten': 132095, 'cornelius': 132096, 'fettachini': 132097, 'bahamian': 132098, 'unsuccessfuly': 132099, 'ooccasions': 132100, 'scarecely': 132101, \"'monk'\": 132102, 'eah': 132103, 'b000pp0wgm': 132104, 'innocuously': 132105, 'blubbering': 132106, 'projecting': 132107, 'omens': 132108, \"source's\": 132109, 'writhed': 132110, 'scovial': 132111, 'shieeeeet': 132112, 'geit': 132113, 'nutiritional': 132114, 'globular': 132115, 'nummmmmmy': 132116, 'odorfree': 132117, 'b001e6p6mq': 132118, 'seborrhoeic': 132119, 'scal': 132120, 'nizral': 132121, 'seredipity': 132122, 'camillia': 132123, 'melaleuca': 132124, 'suchproducts': 132125, \"'result'\": 132126, 'homewok': 132127, \"2in1's\": 132128, 'overconditioned': 132129, 'b002kaa8kk': 132130, 'b002ohe7ro': 132131, 'scalptherapy': 132132, 'lengthed': 132133, 'folically': 132134, 'b0029jekag': 132135, 'kashk': 132136, 'bademjan': 132137, 'righton': 132138, \"readin'\": 132139, \"seedin'\": 132140, \"davids'\": 132141, 'revolutationary': 132142, 'serviving': 132143, 'receivd': 132144, 'hazlehut': 132145, '0311n16': 132146, '073012': 132147, 'seasheels': 132148, 'ure': 132149, 'maltness': 132150, \"'flake'\": 132151, 'chipshop': 132152, 'brklyn': 132153, 'meltiest': 132154, \"'distort'\": 132155, \"'uncoffee'\": 132156, 'b000i610k0': 132157, 'b0011di8k4': 132158, 'christchurch': 132159, 'mnauka': 132160, 'korunaturals': 132161, 'unprocesseed': 132162, 'peroxcides': 132163, 'b000gg0bma': 132164, 'unamended': 132165, 'cloverkill': 132166, 'garantte': 132167, 'gummiburst': 132168, 'gummibursts': 132169, 'eddy': 132170, 'fruision': 132171, 'maltball': 132172, 'tbspp': 132173, 'hallucinogens': 132174, 'spicen': 132175, '90000': 132176, '250000': 132177, 'abouut': 132178, 'hurtin': 132179, 'extinguished': 132180, 'naplam': 132181, 'extracty': 132182, 'uped': 132183, 'anty': 132184, 'algedonic': 132185, 'tonge': 132186, 'humongus': 132187, 'onsuming': 132188, 'rehyrate': 132189, 'bollito': 132190, 'munten': 132191, 'b000etxo8m': 132192, \"fuzziwigg's\": 132193, 'lagre': 132194, 'vehichle': 132195, 'quadruplets': 132196, 'aupperle': 132197, 'absolutuley': 132198, 'b000rei2x6': 132199, 'namers': 132200, \"bummed's\": 132201, \"'joined'\": 132202, 'keem': 132203, 'lavising': 132204, 'proesch': 132205, 'misprintings': 132206, 'costos': 132207, 'smaething': 132208, 'wron': 132209, 'quisitive': 132210, 'gsb': 132211, 'aor': 132212, 'glich': 132213, 'resaon': 132214, 'ingrediaant': 132215, 'marmade': 132216, 'pretentions': 132217, 'hoticed': 132218, \"yoda's\": 132219, \"c3p0's\": 132220, 'anekan': 132221, 'grievious': 132222, 'grievouses': 132223, 'anakin': 132224, 'clonetrooper': 132225, 'althoough': 132226, 'everywere': 132227, 'retailler': 132228, 'b003vpeao8': 132229, 'fpsbhs0302': 132230, 'b000xcculw': 132231, 'b001bb2lmm': 132232, 'b0000glxau': 132233, 'fastachi®': 132234, 'creeeeemy': 132235, 'proofread': 132236, 'unsatifactory': 132237, 'mannner': 132238, 'excluseively': 132239, 'idc': 132240, 'nomral': 132241, \"aero's\": 132242, 'subcribed': 132243, 'whiska': 132244, 'lucies': 132245, 'dennery': 132246, 'bonnett': 132247, \"never's\": 132248, 'enzimes': 132249, 'oliveri': 132250, 'mcfarland': 132251, 'facade': 132252, \"'kick'and\": 132253, 'filigreed': 132254, 'crucnhy': 132255, 'enver': 132256, 'supersaturated': 132257, 'bensdorf': 132258, 'expensived': 132259, 'europro': 132260, 'redolant': 132261, 'dubhai': 132262, 'fresg': 132263, 'shiiped': 132264, 'equipotent': 132265, 'fuity': 132266, \"chewy'er\": 132267, 'favortes': 132268, 'scatches': 132269, 'trichlorosucrose': 132270, 'alkyl': 132271, 'alkylating': 132272, 'pendent': 132273, 'nucleophiles': 132274, 'anchimeric': 132275, 'anomer': 132276, 'halogenated': 132277, 'dimethylbutyl': 132278, 'bimbos': 132279, 'moneybags': 132280, 'sacrin': 132281, 'timeand': 132282, 'finley': 132283, \"five's\": 132284, 'italin': 132285, 'euphamistically': 132286, 'apomictic': 132287, 'jabuticaba': 132288, 'twange': 132289, \"kittie's\": 132290, 'formualas': 132291, 'slimfaast': 132292, 'b0036d1xhw': 132293, 'prtein': 132294, 'equivocations': 132295, 'chnages': 132296, 'growind': 132297, 'dermatologyst': 132298, 'horor': 132299, 'dthen': 132300, 'goreous': 132301, 'sparsly': 132302, 'bladded': 132303, 'pathology': 132304, 'nwo': 132305, 'cyctities': 132306, 'anythin': 132307, 'flaz': 132308, 'whta': 132309, 'cycstitis': 132310, 'fuction': 132311, \"'fleas'\": 132312, 'overgroomer': 132313, 'hork': 132314, \"sully's\": 132315, 'carnivora': 132316, 'demoting': 132317, \"'sister's'\": 132318, '682': 132319, 'energic': 132320, 'suspisious': 132321, 'deeeeeeeelicious': 132322, 'meandering': 132323, 'caffinatee': 132324, 'elbos': 132325, 'warhol': 132326, \"'blahhhh'\": 132327, 'blahhhh': 132328, 'pyranese': 132329, 'deivered': 132330, 'williamburgs': 132331, 'flavp0r': 132332, 'uncorrupted': 132333, 'allergions': 132334, \"carmen's\": 132335, 'tricsuits': 132336, 'falty': 132337, 'debora': 132338, 'ostrium': 132339, 'poha': 132340, 'sev': 132341, 'halall': 132342, 'maffitt': 132343, \"'potential'\": 132344, \"claimit's\": 132345, 'chanage': 132346, \"'poisoned'\": 132347, \"'keeps'\": 132348, \"'saved'\": 132349, 'avoide': 132350, 'kissel': 132351, 'vegatibles': 132352, 'b0050oihec': 132353, 'beilieve': 132354, 'orther': 132355, 'aditionally': 132356, 'imbargos': 132357, 'infinatly': 132358, 'infurse': 132359, 'unrivled': 132360, 'saffroan': 132361, \"'speciality'\": 132362, 'begginstrips': 132363, 'everynite': 132364, 'guen': 132365, \"'hound'\": 132366, 'bacan': 132367, 'amazonknow': 132368, \"yamama's\": 132369, 'bolacha': 132370, 'lawlers': 132371, 'panier': 132372, 'crotons': 132373, 'lurching': 132374, 'aireads': 132375, 'phewy': 132376, 'oe': 132377, 'craked': 132378, \"rock's\": 132379, 'similace': 132380, 'babyrus': 132381, 'b0009et94a': 132382, 'progresing': 132383, 'ironish': 132384, 'isses': 132385, 'resulyed': 132386, 'erxc': 132387, 'chocolare': 132388, 'cofcering': 132389, 'aktogether': 132390, '9×13': 132391, 'omgness': 132392, 'b000mxtj4s': 132393, 'b000jsqdgs': 132394, 'uneconomic': 132395, 'iol': 132396, 'dermotologist': 132397, 'tapblespoon': 132398, 'diphenhydramines': 132399, 'importantant': 132400, 'ghrelin': 132401, 'b001v75lhs': 132402, 'b00137zkiq': 132403, '0451184963': 132404, '0805089586': 132405, '1456492543': 132406, '1402765746': 132407, 'b000zm5skk': 132408, 'affirmation': 132409, 'b0046h8zfu': 132410, 'acousticsheep': 132411, 'sp4lm': 132412, 'sleepphones': 132413, 'earset': 132414, 'b002iy65v4': 132415, 'cirtric': 132416, 'falafal': 132417, 'eatballs': 132418, \"'kills'\": 132419, 'websearch': 132420, 'nukes': 132421, 'pernickity': 132422, 'helofalot': 132423, 'uninsured': 132424, 'prepre': 132425, 'metloaf': 132426, 'dbn': 132427, 'hts': 132428, 'italianesque': 132429, \"'characters'\": 132430, 'niech': 132431, 'zyje': 132432, 'polska': 132433, \"welsh's\": 132434, \"distilling's\": 132435, 'b007kawf92': 132436, 'b001cdto88': 132437, 'hipsterness': 132438, 'motha': 132439, \"'vegetal\": 132440, \"'everydayers'\": 132441, 'b000p5h00s': 132442, 'chocaletyness': 132443, 'habs': 132444, \"scu's\": 132445, 'masturbation': 132446, 'novas': 132447, 'sheiss': 132448, 'insurmountably': 132449, 'contaned': 132450, 'myblood': 132451, \"tega's\": 132452, 'jellybellys': 132453, '17yrs': 132454, 'b0000gizry': 132455, 'incresingly': 132456, 'b000j4fj62': 132457, 'mocapot': 132458, 'aipc': 132459, 'b004q9qipm': 132460, 'sussage': 132461, \"tis'\": 132462, 'disgustifying': 132463, 'proteen': 132464, 'b0026hg4sm': 132465, 'onepiece': 132466, 'keeeeeeeeeeeeentucky': 132467, 'carbonhydrate': 132468, 'nbsh': 132469, 'bullmastiffs': 132470, 'nds': 132471, 'spinter': 132472, 'b000v1lwua': 132473, \"enemy's\": 132474, '6million': 132475, 'yirga': 132476, \"tail's\": 132477, 'forgettably': 132478, \"trailblazer's\": 132479, 'ruination': 132480, 'ceam': 132481, 'quickoats': 132482, 'unsatisied': 132483, 'morley': 132484, \"stars'\": 132485, 'amercia': 132486, 'sunburst': 132487, 'b004l5ud2k': 132488, 'raisein': 132489, 'fortifications': 132490, 'satsfying': 132491, 'unadventuresome': 132492, 'withabout': 132493, 'inocuous': 132494, 'sooooooft': 132495, 'pomeranz': 132496, 'backback': 132497, 'asdd': 132498, 'reciieved': 132499, 'opportunit': 132500, '5seconds': 132501, '3boxes': 132502, 'delicuos': 132503, 'voxbbox': 132504, 'unecological': 132505, 'yummii': 132506, 'definitel': 132507, 'oist': 132508, 'raisn': 132509, 'vocbox': 132510, 'b000ypml80': 132511, 'bearingly': 132512, 'aforable': 132513, 'nothn': 132514, 'quakeroatmeal': 132515, 'diesters': 132516, '12gram': 132517, 'ravenousness': 132518, 'b007jfmhbe': 132519, 'bbwife31': 132520, 'yummest': 132521, 'exxited': 132522, 'somour': 132523, 'thaton': 132524, 'thangs': 132525, 'influencers': 132526, 'sofeness': 132527, 'influester': 132528, 'cookiew': 132529, 'cooies': 132530, 'boaght': 132531, 'infuenster': 132532, 'rasian': 132533, 'wuaker': 132534, 'cooed': 132535, 'recomeend': 132536, 'quci': 132537, 'whilesome': 132538, 'perpackaged': 132539, 'quaket': 132540, 'iwll': 132541, 'lovvvee': 132542, 'swhe': 132543, 'networkedblogs': 132544, 'zmtsa': 132545, 'rsearch': 132546, 'tehy': 132547, 'difenitly': 132548, 'diggitty': 132549, 'b002z613jo': 132550, 'staycations': 132551, 'bmh23': 132552, 'b004t6ejs0': 132553, 'cocentrated': 132554, 'juiceless': 132555, 'tranking': 132556, \"signature's\": 132557, 'sodiam': 132558, 'happys': 132559, 'johnd': 132560, 'significatly': 132561, '38lb': 132562, \"'stuff\": 132563, 'worsterchire': 132564, 'gotezes': 132565, 'awhille': 132566, 'remidied': 132567, 'b002evovpi': 132568, 'coffeeteam': 132569, \"reasor's\": 132570, 'crmbly': 132571, 'grian': 132572, 'galloway': 132573, 'b000mlhds4': 132574, \"'bits\": 132575, 'nespreso': 132576, 'b001v8p7sa': 132577, '27327': 132578, \"'chemicaly'\": 132579, 'b000hdjywa': 132580, 'zofchak': 132581, 'raphael': 132582, 'ruthi': 132583, 'photobooth': 132584, \"moir's\": 132585, 'ascophyllum': 132586, 'nodosum': 132587, 'laminaria': 132588, 'digitata': 132589, 'heatlth': 132590, 'adjusments': 132591, 'refry': 132592, 'choccy': 132593, '130g': 132594, 'heuvos': 132595, 'genistein': 132596, 'daidzein': 132597, 'glycitein': 132598, 'pqq': 132599, 'fucoidan': 132600, 'latger': 132601, \"blintz's\": 132602, 'indistinguisable': 132603, \"grossinger's\": 132604, 'parmount': 132605, 'b005lin0ps': 132606, 'emiliano': 132607, 'inebriating': 132608, 'sesation': 132609, 'clening': 132610, \"'puppy\": 132611, \"rap'\": 132612, \"don'ts\": 132613, 'veggident': 132614, 'sensatoinal': 132615, 'rrecently': 132616, \"burping's\": 132617, 'tasrycake': 132618, 'b005z289ba': 132619, 'b005z25ato': 132620, 'b005zs7l7m': 132621, 'algaecide': 132622, 'cryovaced': 132623, \"know's\": 132624, 'atrizine': 132625, \"'fiesta\": 132626, \"'southwest\": 132627, \"chipotle'\": 132628, \"'wasted'\": 132629, 'catamount': 132630, \"queso's\": 132631, 'pinbones': 132632, 'cataract': 132633, 'evelope': 132634, \"elki's\": 132635, 'diplomatico': 132636, 'exclusiva': 132637, \"'clock\": 132638, 'exeriencing': 132639, \"amzon's\": 132640, 'b003gvbn1a': 132641, 'geno': 132642, 'wheien': 132643, 'f0r': 132644, 'frownier': 132645, 'colossians': 132646, \"'ground'\": 132647, 'smoak': 132648, 'keebler®': 132649, 'towne': 132650, 'iick': 132651, 'goiters': 132652, 'sendind': 132653, \"'filled\": 132654, 'wursts': 132655, 'schranke': 132656, 'frikandellen': 132657, 'munga': 132658, 'mungas': 132659, 'b002cvtt52': 132660, 'b00006iuxu': 132661, 'hanukah': 132662, 'merciful': 132663, 'enire': 132664, 'produtcs': 132665, 'boyfried': 132666, 'minotaur': 132667, 'chimera': 132668, 'uruguayan': 132669, 'b0018qlg9y': 132670, 'b001eq4hoy': 132671, 'b001eq4hje': 132672, 'nust': 132673, 'b000q71l28': 132674, 'positves': 132675, \"barabra's\": 132676, 'b002dgm8u4': 132677, 'moshi': 132678, 'clearguard': 132679, 'losalt': 132680, 'unswept': 132681, 'blistery': 132682, 'migrant': 132683, 'originially': 132684, 'tendor': 132685, 'blas': 132686, 'b0048zb7q4': 132687, 'b000l1xy0q': 132688, 'opperator': 132689, 'lizzard': 132690, 'watermelo': 132691, 'daze': 132692, 'dysmotility': 132693, 'kairos': 132694, 'bestbuy': 132695, \"capn's\": 132696, 'stromng': 132697, 'b004hcbkj2': 132698, 'lowcarbcanada': 132699, 'amchur': 132700, 'shiipping': 132701, 'whol': 132702, 'germack': 132703, 'rianxo': 132704, 'dispeptic': 132705, 'trinke': 132706, 'mindestens': 132707, 'jahren': 132708, 'weniger': 132709, 'unfreiwillig': 132710, 'wohne': 132711, 'kasten': 132712, 'gekauft': 132713, 'stolzer': 132714, 'machen': 132715, 'heute': 132716, 'festgestellt': 132717, 'dass': 132718, 'nahezu': 132719, 'verdoppelt': 132720, 'dafuer': 132721, \"gibt's\": 132722, 'jetzt': 132723, 'gourmetflasche': 132724, 'angebot': 132725, 'dieser': 132726, 'seite': 132727, 'zwar': 132728, 'billiger': 132729, 'leid': 132730, 'solange': 132731, 'kein': 132732, 'millionaer': 132733, 'schluss': 132734, 'werde': 132735, 'sonstwas': 132736, 'kaufen': 132737, 'muessen': 132738, 'dxelivered': 132739, 'alpsnacks': 132740, \"alpsnack's\": 132741, 'b000lkwrxw': 132742, \"'rumble'\": 132743, 'defenseless': 132744, 'inhumanly': 132745, \"keller's\": 132746, 'vinification': 132747, 'nebbiolo': 132748, 'bardolino': 132749, 'barberesco': 132750, 'windjammer': 132751, \"pedro's\": 132752, 'strart': 132753, \"appel's\": 132754, 'mannan': 132755, 'pomkie': 132756, 'stockist': 132757, 'haded': 132758, 'uhc': 132759, 'mp5': 132760, 'sd3': 132761, 'submachine': 132762, 'hawwww': 132763, 'hoots': 132764, 'b0006vhmg8': 132765, 'allopathic': 132766, 'rasmussen': 132767, 'b004254w4e': 132768, 'rightt': 132769, 'discound': 132770, 'b000k8v1pa': 132771, 'congradulations': 132772, 'drumstix': 132773, 'xxoo': 132774, 'erika': 132775, \"try'em\": 132776, 'twizzelers': 132777, \"'vegie'\": 132778, 'amac': 132779, 'starkly': 132780, 'cauliflowery': 132781, 'hrumph': 132782, 'childless': 132783, 'tabulous': 132784, 'srving': 132785, 'vegeatbles': 132786, 'vegetableness': 132787, 'interrogation': 132788, \"'junkfood'\": 132789, 'smmmile': 132790, \"meem's\": 132791, 'oritingal': 132792, 'trackable': 132793, 'gvn': 132794, 'stonegound': 132795, 'highgrove': 132796, \"wale's\": 132797, 'b003m5dbjw': 132798, 'b0002ctp5m': 132799, 'b00362e4ho': 132800, \"'her'\": 132801, '120gm': 132802, '95gm': 132803, '4week': 132804, '6days': 132805, 'mismarked': 132806, 'faty': 132807, 'cylonian': 132808, 'concurrence': 132809, 'b0044wte66': 132810, 'b0044wpdqq': 132811, 'b0044wpdny': 132812, 'thicking': 132813, 'davy': 132814, 'iridessa': 132815, 'rattatouie': 132816, 'b000nmhyh2': 132817, 'fruitbits': 132818, 'bombai': 132819, 'stiffin': 132820, 'wondferful': 132821, 'ghani': 132822, 'synchrony': 132823, 'midshift': 132824, 'b0037ypvbe': 132825, 'packagge': 132826, 'charlton': 132827, 'canz': 132828, 'siit': 132829, 'pearceing': 132830, 'admited': 132831, 'hoilday': 132832, 'biotoxin': 132833, 'carefresh': 132834, 'baddddd': 132835, 'bambie1195': 132836, 'underdid': 132837, 'sloughing': 132838, 'monsterly': 132839, 'daredevil': 132840, 'unassumingly': 132841, 'bour': 132842, 'famouse': 132843, 'electrocuted': 132844, 'savina®': 132845, 'miris': 132846, 'bravado': 132847, 'foreheads': 132848, 'niceties': 132849, 'maws': 132850, 'gallows': 132851, 'jatos': 132852, 'propelling': 132853, 'aural': 132854, 'ashen': 132855, 'hoooot': 132856, 'spoooooky': 132857, 'baritone': 132858, 'bombarding': 132859, 'gyrating': 132860, 'headbutting': 132861, 'jato': 132862, 'deafened': 132863, 'hgtv': 132864, 'ejaculated': 132865, 'conflagrated': 132866, 'firefigher': 132867, 'chodruff': 132868, 'endorphined': 132869, 'crests': 132870, 'winch': 132871, 'bitched': 132872, 'unrepresentative': 132873, 'jabanero': 132874, 'jolepeno': 132875, 'smalling': 132876, 'senation': 132877, 'restrictor': 132878, 'mistakened': 132879, \"meranda's\": 132880, 'naja': 132881, '400x': 132882, 'smirked': 132883, 'skobiyan': 132884, 'daaam': 132885, 'fruitieness': 132886, 'acss': 132887, 'downsided': 132888, 'otheres': 132889, 'burgur': 132890, 'screamming': 132891, 'dranking': 132892, 'nahhh': 132893, '1tastes': 132894, '130x': 132895, 'b000lkvi14': 132896, 'kitchn': 132897, 'wreckage': 132898, 'fairchild': 132899, 'grizzlyb10': 132900, \"lasagna'\": 132901, 'eda': 132902, 'madrin': 132903, \"'groovy'\": 132904, 'nepa': 132905, 'b0001zmxsg': 132906, '00704': 132907, 'b0001zmxs6': 132908, '00703': 132909, 'b00083g67a': 132910, 'sbig': 132911, 'warble': 132912, 'lackland': 132913, 'librally': 132914, 'hoemtown': 132915, 'canvass': 132916, 'berryessa': 132917, 'natter': 132918, \"nari's\": 132919, 'nuri': 132920, 'paesanol': 132921, 'granadillas': 132922, 'servigs': 132923, 'b001e5dyto': 132924, 'passify': 132925, 'rockyhill': 132926, 'tagliarelli': 132927, \"walla'\": 132928, 'werein': 132929, 'ceddar': 132930, \"dorothy's\": 132931, 'pumiced': 132932, '3196': 132933, \"ferraro's\": 132934, 'boulevards': 132935, 'cocholates': 132936, 'exquistely': 132937, 'eatenn': 132938, 'thursdays': 132939, 'trooped': 132940, 'foreighn': 132941, 'gulian': 132942, 'corne': 132943, 'toison': 132944, 'herfavorite': 132945, 'tackand': 132946, 'tapanades': 132947, 'buestelo': 132948, \"bustelo's\": 132949, 'b0000deyl8': 132950, 'b0000ddsdq': 132951, 'manufacterer': 132952, 'rememdies': 132953, 'occassinal': 132954, 'slushee': 132955, 'doughboys': 132956, 'outshown': 132957, 'decrying': 132958, 'puhlease': 132959, 'stepsister': 132960, 'acomplished': 132961, '8hr': 132962, 'repeatably': 132963, 'beautitul': 132964, 'fiel': 132965, '87th': 132966, 'philpine': 132967, 'safinter': 132968, 'sooohhh': 132969, 'inco': 132970, 'b005927yhg': 132971, 'perculoator': 132972, 'sleepiest': 132973, 'exhumes': 132974, 'brasilian': 132975, 'pkwy': 132976, '93035': 132977, \"'davidson's\": 132978, 'weavil': 132979, 'molts': 132980, 'ffor': 132981, 'airpacked': 132982, '0425204138': 132983, \"'worked'\": 132984, \"alchemist's\": 132985, 'unfathomably': 132986, 'kefirian': 132987, 'kefirlady': 132988, \"kefirlady's\": 132989, \"'lifetime\": 132990, 'quadruppled': 132991, 'nautre': 132992, 'b2c': 132993, 'peelers': 132994, 'ofern': 132995, 'convenit': 132996, 'repeatly': 132997, \"'painted'\": 132998, 'senegalese': 132999, 'bratz': 133000, 'regulaer': 133001, 'mediciene': 133002, 'decreas': 133003, 'yuum': 133004, 'omelate': 133005, 'fruties': 133006, 'wussified': 133007, 'apprecate': 133008, 'combaination': 133009, \"'yum\": 133010, \"yum'\": 133011, 'beaudy': 133012, 'everyhting': 133013, 'plaaaayyyy': 133014, 'firmiliar': 133015, \"low's\": 133016, 'truvias': 133017, 'maltdextrin': 133018, \"'healthiest'\": 133019, 'b001izhzja': 133020, 'liocorice': 133021, 'droppes': 133022, \"'mallo\": 133023, 'costsco': 133024, 'b0013z40u2': 133025, 'butterscotchey': 133026, 'carameley': 133027, 'uriney': 133028, 'surggery': 133029, 'remond': 133030, 'outch': 133031, 'manzanillas': 133032, 'castelvetranos': 133033, 'brevard': 133034, \"eg's\": 133035, '20z': 133036, 'grasssaver': 133037, 'b004by23i8': 133038, \"choward's\": 133039, 'lofted': 133040}\n"
     ]
    }
   ],
   "source": [
    "tokenizer.fit_on_texts(data_list)\n",
    "word_index = tokenizer.word_index\n",
    "print(word_index)"
   ]
  }
 ]
}